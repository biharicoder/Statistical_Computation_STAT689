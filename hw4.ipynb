{
 "cells": [
  {
   "cell_type": "markdown",
   "metadata": {},
   "source": [
    "# Solanki, Shivam Homework 4"
   ]
  },
  {
   "cell_type": "markdown",
   "metadata": {},
   "source": [
    "**Due Monday 1st April in class**"
   ]
  },
  {
   "cell_type": "markdown",
   "metadata": {},
   "source": [
    "In this homework you will compute the posterior distribution for a Poisson likelihood with a gamma prior using:\n",
    "* Model Conjugacy\n",
    "* Numerical Integration\n",
    "* Metropolis Hastings Algorithm\n",
    "\n",
    "All of these methods should give the same answer (up to numerical approximation). In practice, one would use the conjugate model result to derive the posterior because this method is computationally fastest. However the  methods of numerical integration and Metropolis Hastings are more general in that they could be used on other, non-conjugate models. Metropolis Hastings is particularly useful because it can be used for problems where the parameter dimension is too high for direct numerical integration. "
   ]
  },
  {
   "cell_type": "markdown",
   "metadata": {},
   "source": [
    "## Problem 1\n",
    "\n",
    "Suppose we observe $X_1,\\ldots,X_n \\sim \\text{Pois}(\\lambda)$ where $\\text{Pois}(\\lambda)$ denotes a Poisson distribution with mean parameter $\\lambda$. Specifically\n",
    "$$ P(X=x|\\lambda)  = \\frac{\\lambda^x e^{-\\lambda}}{x!}$$\n",
    "for $x=0,1,\\dots$. We put a $Gamma(\\alpha,\\beta)$ prior on $\\lambda$, which we denote by $\\pi(\\lambda)$. This prior has the form\n",
    "$$\\pi(\\lambda) = \\frac{\\beta^\\alpha}{\\Gamma(\\alpha)} \\lambda^{\\alpha-1} e^{-\\beta\\lambda}$$\n",
    "for $\\lambda > 0$. Recall that $\\alpha, \\beta > 0$ are fixed, known constants.\n",
    "\n",
    "1. Using a few lines of algebra determine the posterior distribution.\n",
    "2. Plot the Gamma prior probability density with $\\alpha=3$, $\\beta=1/2$ and plot the corresponding posterior density assuming $n=10$ and \n",
    " $(x_1,\\dots,x_n) = (4,5,1,3,3,1,4,5,0,5)$\n",
    "\n",
    "\n",
    "\n",
    "Note: In python,`np.random.gamma` and `scipy.stats.gamma` use the scale parameterization. We use the rate parameterization: rate = 1/scale. R has options for both rate and scale parameterization in `rgamma`, `dgamma`, etc. See [here](https://en.wikipedia.org/wiki/Exponential_distribution) and [here](https://en.wikipedia.org/wiki/Gamma_distribution) for some discussion of different parameterizations."
   ]
  },
  {
   "cell_type": "markdown",
   "metadata": {},
   "source": [
    "## Answer 1\n",
    "Sampling with Poisson distribution:\n",
    "\n",
    "$$ P(X=x|\\lambda)  = \\frac{\\lambda^x e^{-\\lambda}}{x!}$$\n",
    "\n",
    "Gamma Prior:\n",
    "$$\\pi(\\lambda) = \\frac{\\beta^\\alpha}{\\Gamma(\\alpha)} \\lambda^{\\alpha-1} e^{-\\beta\\lambda}$$\n",
    "\n",
    "Calculation posterior:\n",
    "$$ P(\\lambda|X=x) = \\frac{P(\\lambda) P(X=x|\\lambda)}{P(X=x)}$$\n",
    "                $$= \\frac{\\beta^\\alpha}{\\Gamma(\\alpha)} \\lambda^{\\alpha-1} e^{-\\beta\\lambda} \\lambda^{\\sum(x)} e^{-n\\lambda} c(x_1,x_2,........x_n)$$ \n",
    "                $$= \\frac{\\beta^\\alpha}{\\Gamma(\\alpha)} \\lambda^{\\alpha+\\sum(x)-1} e^{-(\\beta+n)\\lambda} c(x_1,x_2,........x_n)$$                \n",
    "                $$ \\sim gamma(\\alpha+\\sum(x_i), \\beta+n)$$                "
   ]
  },
  {
   "cell_type": "code",
   "execution_count": 1,
   "metadata": {},
   "outputs": [],
   "source": [
    "import numpy as np\n",
    "from scipy.stats import gamma\n",
    "import matplotlib.pyplot as plt\n",
    "plt.style.use('ggplot')\n",
    "%matplotlib inline"
   ]
  },
  {
   "cell_type": "code",
   "execution_count": 20,
   "metadata": {},
   "outputs": [],
   "source": [
    "## get plot sizes reasonable\n",
    "plt.rcParams['figure.figsize'] = (12, 4)"
   ]
  },
  {
   "cell_type": "code",
   "execution_count": 43,
   "metadata": {},
   "outputs": [
    {
     "data": {
      "text/plain": [
       "[<matplotlib.lines.Line2D at 0x20aa5617908>]"
      ]
     },
     "execution_count": 43,
     "metadata": {},
     "output_type": "execute_result"
    },
    {
     "data": {
      "image/png": "[encoded data removed]",
      "text/plain": [
       "<Figure size 864x288 with 2 Axes>"
      ]
     },
     "metadata": {
      "needs_background": "light"
     },
     "output_type": "display_data"
    }
   ],
   "source": [
    "fig = plt.figure()\n",
    "fig.subplots_adjust(hspace=0.4, wspace=.25)\n",
    "\n",
    "al = 3 # alpha parameter\n",
    "be = 2 # 1/beta parameter since rate parameterization is to be used rather than scale parameterization\n",
    "p = np.linspace(gamma.ppf(0.01, al),\n",
    "               gamma.ppf(0.99, al), 100)\n",
    "\n",
    "# plot the prior\n",
    "ax = fig.add_subplot(1, 2, 1)\n",
    "ax.plot(p, gamma.pdf(p, al, be),\n",
    "         'r-', lw=5, alpha=0.6, label='Gamma pdf')\n",
    "\n",
    "\n",
    "# Plot the posterior\n",
    "n = 10\n",
    "X_i = [4,5,1,3,3,1,4,5,0,5]\n",
    "x = sum(X_i)\n",
    "b = 2 + n\n",
    "a = 3 + x\n",
    "p = np.linspace(gamma.ppf(0.01, a),\n",
    "               gamma.ppf(0.99, a), 1000)\n",
    "ax = fig.add_subplot(1, 2, 2)\n",
    "ax.plot(p, gamma.pdf(p, a, b),\n",
    "         'r-', lw=5, alpha=0.6, label='Gamma pdf')"
   ]
  },
  {
   "cell_type": "markdown",
   "metadata": {},
   "source": [
    "## Problem 2\n",
    "\n",
    "Recall that the posterior is proportional to the likelihood times the prior\n",
    "$$ \\pi(\\lambda|x) \\propto f(x|\\lambda)\\pi(\\lambda)$$\n",
    "Here $x=(x_1,\\ldots,x_n)$ and $f(x|\\lambda) = \\lambda^{\\sum_i x_i} e^{-n\\lambda}/(\\prod_i x_i!)$ is the joint probability density function, i.e., the likelihood when viewed as a function of $\\lambda$. Plot $f(x|\\lambda)\\pi(\\lambda)$ (or something proportional to it) for the $Gamma(\\alpha=3,\\beta=1/2)$ prior and data from the previous question. Numerically integrate this function and use the result to normalize $f(x|\\lambda)\\pi(\\lambda)$. Verify that the result matches the posterior you found in Problem 1."
   ]
  },
  {
   "cell_type": "markdown",
   "metadata": {},
   "source": [
    "## Answer2"
   ]
  },
  {
   "cell_type": "code",
   "execution_count": 40,
   "metadata": {},
   "outputs": [],
   "source": [
    "px = np.linspace(gamma.ppf(0.01, al),\n",
    "               gamma.ppf(0.99, al), 100)\n",
    "def posterior_propto(p,al,be):\n",
    "    return gamma.pdf(p, al+x, be+n)"
   ]
  },
  {
   "cell_type": "code",
   "execution_count": 44,
   "metadata": {},
   "outputs": [
    {
     "data": {
      "text/plain": [
       "array([4.33516029e-09, 4.61701083e-09, 4.91597941e-09, 5.23302999e-09,\n",
       "       5.56917638e-09, 5.92548458e-09, 6.30307518e-09, 6.70312591e-09,\n",
       "       7.12687430e-09, 7.57562037e-09, 8.05072955e-09, 8.55363559e-09,\n",
       "       9.08584369e-09, 9.64893372e-09, 1.02445635e-08, 1.08744724e-08,\n",
       "       1.15404848e-08, 1.22445140e-08, 1.29885659e-08, 1.37747433e-08,\n",
       "       1.46052499e-08, 1.54823948e-08, 1.64085971e-08, 1.73863903e-08,\n",
       "       1.84184275e-08, 1.95074861e-08, 2.06564737e-08, 2.18684327e-08,\n",
       "       2.31465466e-08, 2.44941455e-08, 2.59147125e-08, 2.74118895e-08,\n",
       "       2.89894840e-08, 3.06514761e-08, 3.24020247e-08, 3.42454757e-08,\n",
       "       3.61863686e-08, 3.82294448e-08, 4.03796555e-08, 4.26421699e-08,\n",
       "       4.50223835e-08, 4.75259276e-08, 5.01586779e-08, 5.29267642e-08,\n",
       "       5.58365802e-08, 5.88947935e-08, 6.21083560e-08, 6.54845151e-08,\n",
       "       6.90308241e-08, 7.27551545e-08, 7.66657073e-08, 8.07710253e-08,\n",
       "       8.50800063e-08, 8.96019154e-08, 9.43463989e-08, 9.93234981e-08,\n",
       "       1.04543663e-07, 1.10017770e-07, 1.15757130e-07, 1.21773515e-07,\n",
       "       1.28079162e-07, 1.34686800e-07, 1.41609660e-07, 1.48861499e-07,\n",
       "       1.56456610e-07, 1.64409850e-07, 1.72736651e-07, 1.81453045e-07,\n",
       "       1.90575683e-07, 2.00121855e-07, 2.10109513e-07, 2.20557292e-07,\n",
       "       2.31484534e-07, 2.42911310e-07, 2.54858446e-07, 2.67347546e-07,\n",
       "       2.80401017e-07, 2.94042098e-07, 3.08294885e-07, 3.23184357e-07,\n",
       "       3.38736408e-07, 3.54977872e-07, 3.71936558e-07, 3.89641274e-07,\n",
       "       4.08121863e-07, 4.27409236e-07, 4.47535402e-07, 4.68533502e-07,\n",
       "       4.90437847e-07, 5.13283949e-07, 5.37108563e-07, 5.61949720e-07,\n",
       "       5.87846765e-07, 6.14840402e-07, 6.42972728e-07, 6.72287278e-07,\n",
       "       7.02829064e-07, 7.34644622e-07, 7.67782055e-07, 8.02291074e-07,\n",
       "       8.38223054e-07, 8.75631069e-07, 9.14569953e-07, 9.55096340e-07,\n",
       "       9.97268720e-07, 1.04114749e-06, 1.08679500e-06, 1.13427563e-06,\n",
       "       1.18365581e-06, 1.23500410e-06, 1.28839126e-06, 1.34389027e-06,\n",
       "       1.40157643e-06, 1.46152740e-06, 1.52382327e-06, 1.58854660e-06,\n",
       "       1.65578255e-06, 1.72561886e-06, 1.79814601e-06, 1.87345719e-06,\n",
       "       1.95164846e-06, 2.03281879e-06, 2.11707010e-06, 2.20450740e-06,\n",
       "       2.29523880e-06, 2.38937564e-06, 2.48703256e-06, 2.58832755e-06,\n",
       "       2.69338206e-06, 2.80232109e-06, 2.91527326e-06, 3.03237091e-06,\n",
       "       3.15375015e-06, 3.27955104e-06, 3.40991756e-06, 3.54499783e-06,\n",
       "       3.68494409e-06, 3.82991290e-06, 3.98006515e-06, 4.13556624e-06,\n",
       "       4.29658611e-06, 4.46329940e-06, 4.63588551e-06, 4.81452877e-06,\n",
       "       4.99941847e-06, 5.19074904e-06, 5.38872011e-06, 5.59353667e-06,\n",
       "       5.80540915e-06, 6.02455355e-06, 6.25119159e-06, 6.48555077e-06,\n",
       "       6.72786454e-06, 6.97837242e-06, 7.23732012e-06, 7.50495965e-06,\n",
       "       7.78154949e-06, 8.06735470e-06, 8.36264704e-06, 8.66770515e-06,\n",
       "       8.98281464e-06, 9.30826825e-06, 9.64436600e-06, 9.99141534e-06,\n",
       "       1.03497313e-05, 1.07196365e-05, 1.11014615e-05, 1.14955450e-05,\n",
       "       1.19022337e-05, 1.23218826e-05, 1.27548552e-05, 1.32015238e-05,\n",
       "       1.36622693e-05, 1.41374816e-05, 1.46275597e-05, 1.51329119e-05,\n",
       "       1.56539561e-05, 1.61911196e-05, 1.67448396e-05, 1.73155632e-05,\n",
       "       1.79037479e-05, 1.85098610e-05, 1.91343809e-05, 1.97777962e-05,\n",
       "       2.04406066e-05, 2.11233228e-05, 2.18264667e-05, 2.25505715e-05,\n",
       "       2.32961824e-05, 2.40638558e-05, 2.48541606e-05, 2.56676776e-05,\n",
       "       2.65050001e-05, 2.73667338e-05, 2.82534973e-05, 2.91659222e-05,\n",
       "       3.01046531e-05, 3.10703482e-05, 3.20636790e-05, 3.30853309e-05,\n",
       "       3.41360034e-05, 3.52164100e-05, 3.63272787e-05, 3.74693520e-05,\n",
       "       3.86433874e-05, 3.98501572e-05, 4.10904492e-05, 4.23650664e-05,\n",
       "       4.36748277e-05, 4.50205677e-05, 4.64031372e-05, 4.78234033e-05,\n",
       "       4.92822497e-05, 5.07805769e-05, 5.23193022e-05, 5.38993602e-05,\n",
       "       5.55217029e-05, 5.71873002e-05, 5.88971395e-05, 6.06522266e-05,\n",
       "       6.24535854e-05, 6.43022584e-05, 6.61993071e-05, 6.81458117e-05,\n",
       "       7.01428717e-05, 7.21916062e-05, 7.42931538e-05, 7.64486732e-05,\n",
       "       7.86593431e-05, 8.09263624e-05, 8.32509509e-05, 8.56343491e-05,\n",
       "       8.80778185e-05, 9.05826417e-05, 9.31501231e-05, 9.57815887e-05,\n",
       "       9.84783862e-05, 1.01241886e-04, 1.04073480e-04, 1.06974584e-04,\n",
       "       1.09946635e-04, 1.12991095e-04, 1.16109447e-04, 1.19303199e-04,\n",
       "       1.22573883e-04, 1.25923054e-04, 1.29352291e-04, 1.32863198e-04,\n",
       "       1.36457403e-04, 1.40136560e-04, 1.43902347e-04, 1.47756466e-04,\n",
       "       1.51700647e-04, 1.55736644e-04, 1.59866236e-04, 1.64091230e-04,\n",
       "       1.68413459e-04, 1.72834780e-04, 1.77357079e-04, 1.81982268e-04,\n",
       "       1.86712286e-04, 1.91549099e-04, 1.96494701e-04, 2.01551112e-04,\n",
       "       2.06720382e-04, 2.12004586e-04, 2.17405830e-04, 2.22926245e-04,\n",
       "       2.28567995e-04, 2.34333267e-04, 2.40224281e-04, 2.46243283e-04,\n",
       "       2.52392551e-04, 2.58674389e-04, 2.65091132e-04, 2.71645145e-04,\n",
       "       2.78338821e-04, 2.85174584e-04, 2.92154887e-04, 2.99282213e-04,\n",
       "       3.06559075e-04, 3.13988019e-04, 3.21571616e-04, 3.29312472e-04,\n",
       "       3.37213221e-04, 3.45276529e-04, 3.53505092e-04, 3.61901638e-04,\n",
       "       3.70468923e-04, 3.79209736e-04, 3.88126899e-04, 3.97223261e-04,\n",
       "       4.06501705e-04, 4.15965144e-04, 4.25616523e-04, 4.35458817e-04,\n",
       "       4.45495035e-04, 4.55728214e-04, 4.66161426e-04, 4.76797770e-04,\n",
       "       4.87640381e-04, 4.98692423e-04, 5.09957092e-04, 5.21437614e-04,\n",
       "       5.33137250e-04, 5.45059289e-04, 5.57207053e-04, 5.69583894e-04,\n",
       "       5.82193198e-04, 5.95038380e-04, 6.08122886e-04, 6.21450196e-04,\n",
       "       6.35023817e-04, 6.48847291e-04, 6.62924188e-04, 6.77258110e-04,\n",
       "       6.91852691e-04, 7.06711594e-04, 7.21838513e-04, 7.37237172e-04,\n",
       "       7.52911326e-04, 7.68864761e-04, 7.85101291e-04, 8.01624762e-04,\n",
       "       8.18439048e-04, 8.35548053e-04, 8.52955712e-04, 8.70665986e-04,\n",
       "       8.88682869e-04, 9.07010380e-04, 9.25652569e-04, 9.44613515e-04,\n",
       "       9.63897322e-04, 9.83508126e-04, 1.00345009e-03, 1.02372739e-03,\n",
       "       1.04434426e-03, 1.06530494e-03, 1.08661369e-03, 1.10827482e-03,\n",
       "       1.13029264e-03, 1.15267150e-03, 1.17541579e-03, 1.19852988e-03,\n",
       "       1.22201822e-03, 1.24588524e-03, 1.27013542e-03, 1.29477326e-03,\n",
       "       1.31980328e-03, 1.34523001e-03, 1.37105802e-03, 1.39729191e-03,\n",
       "       1.42393628e-03, 1.45099575e-03, 1.47847499e-03, 1.50637867e-03,\n",
       "       1.53471148e-03, 1.56347812e-03, 1.59268334e-03, 1.62233188e-03,\n",
       "       1.65242852e-03, 1.68297804e-03, 1.71398524e-03, 1.74545494e-03,\n",
       "       1.77739199e-03, 1.80980124e-03, 1.84268755e-03, 1.87605581e-03,\n",
       "       1.90991092e-03, 1.94425778e-03, 1.97910133e-03, 2.01444651e-03,\n",
       "       2.05029825e-03, 2.08666153e-03, 2.12354131e-03, 2.16094257e-03,\n",
       "       2.19887032e-03, 2.23732954e-03, 2.27632525e-03, 2.31586246e-03,\n",
       "       2.35594620e-03, 2.39658151e-03, 2.43777340e-03, 2.47952693e-03,\n",
       "       2.52184715e-03, 2.56473909e-03, 2.60820782e-03, 2.65225839e-03,\n",
       "       2.69689585e-03, 2.74212527e-03, 2.78795170e-03, 2.83438020e-03,\n",
       "       2.88141582e-03, 2.92906362e-03, 2.97732865e-03, 3.02621596e-03,\n",
       "       3.07573059e-03, 3.12587758e-03, 3.17666196e-03, 3.22808877e-03,\n",
       "       3.28016301e-03, 3.33288970e-03, 3.38627384e-03, 3.44032042e-03,\n",
       "       3.49503443e-03, 3.55042084e-03, 3.60648459e-03, 3.66323064e-03,\n",
       "       3.72066392e-03, 3.77878934e-03, 3.83761181e-03, 3.89713620e-03,\n",
       "       3.95736739e-03, 4.01831022e-03, 4.07996952e-03, 4.14235011e-03,\n",
       "       4.20545676e-03, 4.26929426e-03, 4.33386733e-03, 4.39918071e-03,\n",
       "       4.46523909e-03, 4.53204714e-03, 4.59960951e-03, 4.66793081e-03,\n",
       "       4.73701564e-03, 4.80686856e-03, 4.87749409e-03, 4.94889675e-03,\n",
       "       5.02108100e-03, 5.09405128e-03, 5.16781199e-03, 5.24236750e-03,\n",
       "       5.31772215e-03, 5.39388023e-03, 5.47084601e-03, 5.54862371e-03,\n",
       "       5.62721751e-03, 5.70663156e-03, 5.78686996e-03, 5.86793677e-03,\n",
       "       5.94983601e-03, 6.03257167e-03, 6.11614766e-03, 6.20056788e-03,\n",
       "       6.28583616e-03, 6.37195630e-03, 6.45893204e-03, 6.54676707e-03,\n",
       "       6.63546505e-03, 6.72502956e-03, 6.81546415e-03, 6.90677230e-03,\n",
       "       6.99895745e-03, 7.09202299e-03, 7.18597224e-03, 7.28080846e-03,\n",
       "       7.37653487e-03, 7.47315462e-03, 7.57067080e-03, 7.66908646e-03,\n",
       "       7.76840456e-03, 7.86862801e-03, 7.96975967e-03, 8.07180232e-03,\n",
       "       8.17475868e-03, 8.27863140e-03, 8.38342308e-03, 8.48913623e-03,\n",
       "       8.59577332e-03, 8.70333672e-03, 8.81182876e-03, 8.92125167e-03,\n",
       "       9.03160764e-03, 9.14289877e-03, 9.25512708e-03, 9.36829453e-03,\n",
       "       9.48240300e-03, 9.59745431e-03, 9.71345017e-03, 9.83039224e-03,\n",
       "       9.94828210e-03, 1.00671212e-02, 1.01869111e-02, 1.03076530e-02,\n",
       "       1.04293482e-02, 1.05519978e-02, 1.06756031e-02, 1.08001649e-02,\n",
       "       1.09256842e-02, 1.10521618e-02, 1.11795986e-02, 1.13079952e-02,\n",
       "       1.14373521e-02, 1.15676699e-02, 1.16989490e-02, 1.18311896e-02,\n",
       "       1.19643921e-02, 1.20985566e-02, 1.22336832e-02, 1.23697717e-02,\n",
       "       1.25068221e-02, 1.26448342e-02, 1.27838076e-02, 1.29237420e-02,\n",
       "       1.30646368e-02, 1.32064915e-02, 1.33493053e-02, 1.34930776e-02,\n",
       "       1.36378073e-02, 1.37834936e-02, 1.39301354e-02, 1.40777315e-02,\n",
       "       1.42262806e-02, 1.43757814e-02, 1.45262325e-02, 1.46776322e-02,\n",
       "       1.48299789e-02, 1.49832709e-02, 1.51375063e-02, 1.52926832e-02,\n",
       "       1.54487994e-02, 1.56058529e-02, 1.57638414e-02, 1.59227625e-02,\n",
       "       1.60826138e-02, 1.62433926e-02, 1.64050964e-02, 1.65677224e-02,\n",
       "       1.67312676e-02, 1.68957292e-02, 1.70611041e-02, 1.72273890e-02,\n",
       "       1.73945808e-02, 1.75626759e-02, 1.77316710e-02, 1.79015624e-02,\n",
       "       1.80723465e-02, 1.82440194e-02, 1.84165772e-02, 1.85900160e-02,\n",
       "       1.87643316e-02, 1.89395198e-02, 1.91155763e-02, 1.92924967e-02,\n",
       "       1.94702764e-02, 1.96489109e-02, 1.98283953e-02, 2.00087248e-02,\n",
       "       2.01898945e-02, 2.03718994e-02, 2.05547343e-02, 2.07383940e-02,\n",
       "       2.09228731e-02, 2.11081660e-02, 2.12942674e-02, 2.14811715e-02,\n",
       "       2.16688725e-02, 2.18573646e-02, 2.20466418e-02, 2.22366981e-02,\n",
       "       2.24275272e-02, 2.26191229e-02, 2.28114789e-02, 2.30045885e-02,\n",
       "       2.31984454e-02, 2.33930427e-02, 2.35883737e-02, 2.37844316e-02,\n",
       "       2.39812093e-02, 2.41786998e-02, 2.43768960e-02, 2.45757905e-02,\n",
       "       2.47753760e-02, 2.49756450e-02, 2.51765900e-02, 2.53782034e-02,\n",
       "       2.55804773e-02, 2.57834040e-02, 2.59869755e-02, 2.61911838e-02,\n",
       "       2.63960207e-02, 2.66014781e-02, 2.68075477e-02, 2.70142210e-02,\n",
       "       2.72214896e-02, 2.74293449e-02, 2.76377783e-02, 2.78467809e-02,\n",
       "       2.80563440e-02, 2.82664586e-02, 2.84771158e-02, 2.86883064e-02,\n",
       "       2.89000212e-02, 2.91122510e-02, 2.93249865e-02, 2.95382182e-02,\n",
       "       2.97519366e-02, 2.99661321e-02, 3.01807950e-02, 3.03959157e-02,\n",
       "       3.06114842e-02, 3.08274907e-02, 3.10439252e-02, 3.12607776e-02,\n",
       "       3.14780379e-02, 3.16956957e-02, 3.19137409e-02, 3.21321631e-02,\n",
       "       3.23509519e-02, 3.25700967e-02, 3.27895871e-02, 3.30094125e-02,\n",
       "       3.32295620e-02, 3.34500250e-02, 3.36707907e-02, 3.38918482e-02,\n",
       "       3.41131864e-02, 3.43347946e-02, 3.45566614e-02, 3.47787760e-02,\n",
       "       3.50011269e-02, 3.52237031e-02, 3.54464932e-02, 3.56694859e-02,\n",
       "       3.58926698e-02, 3.61160333e-02, 3.63395651e-02, 3.65632535e-02,\n",
       "       3.67870869e-02, 3.70110537e-02, 3.72351422e-02, 3.74593407e-02,\n",
       "       3.76836372e-02, 3.79080201e-02, 3.81324774e-02, 3.83569972e-02,\n",
       "       3.85815676e-02, 3.88061765e-02, 3.90308119e-02, 3.92554618e-02,\n",
       "       3.94801140e-02, 3.97047565e-02, 3.99293770e-02, 4.01539633e-02,\n",
       "       4.03785033e-02, 4.06029846e-02, 4.08273950e-02, 4.10517222e-02,\n",
       "       4.12759538e-02, 4.15000775e-02, 4.17240808e-02, 4.19479515e-02,\n",
       "       4.21716770e-02, 4.23952449e-02, 4.26186429e-02, 4.28418583e-02,\n",
       "       4.30648788e-02, 4.32876918e-02, 4.35102848e-02, 4.37326453e-02,\n",
       "       4.39547608e-02, 4.41766188e-02, 4.43982066e-02, 4.46195118e-02,\n",
       "       4.48405218e-02, 4.50612240e-02, 4.52816059e-02, 4.55016550e-02,\n",
       "       4.57213587e-02, 4.59407044e-02, 4.61596796e-02, 4.63782718e-02,\n",
       "       4.65964684e-02, 4.68142569e-02, 4.70316249e-02, 4.72485597e-02,\n",
       "       4.74650489e-02, 4.76810801e-02, 4.78966407e-02, 4.81117184e-02,\n",
       "       4.83263007e-02, 4.85403751e-02, 4.87539294e-02, 4.89669510e-02,\n",
       "       4.91794278e-02, 4.93913474e-02, 4.96026974e-02, 4.98134656e-02,\n",
       "       5.00236398e-02, 5.02332077e-02, 5.04421572e-02, 5.06504762e-02,\n",
       "       5.08581524e-02, 5.10651738e-02, 5.12715285e-02, 5.14772043e-02,\n",
       "       5.16821892e-02, 5.18864715e-02, 5.20900391e-02, 5.22928802e-02,\n",
       "       5.24949830e-02, 5.26963357e-02, 5.28969267e-02, 5.30967442e-02,\n",
       "       5.32957766e-02, 5.34940124e-02, 5.36914400e-02, 5.38880479e-02,\n",
       "       5.40838247e-02, 5.42787591e-02, 5.44728397e-02, 5.46660552e-02,\n",
       "       5.48583946e-02, 5.50498465e-02, 5.52404000e-02, 5.54300440e-02,\n",
       "       5.56187675e-02, 5.58065597e-02, 5.59934096e-02, 5.61793066e-02,\n",
       "       5.63642399e-02, 5.65481989e-02, 5.67311730e-02, 5.69131516e-02,\n",
       "       5.70941245e-02, 5.72740811e-02, 5.74530112e-02, 5.76309046e-02,\n",
       "       5.78077511e-02, 5.79835406e-02, 5.81582632e-02, 5.83319090e-02,\n",
       "       5.85044680e-02, 5.86759305e-02, 5.88462869e-02, 5.90155275e-02,\n",
       "       5.91836429e-02, 5.93506234e-02, 5.95164599e-02, 5.96811430e-02,\n",
       "       5.98446636e-02, 6.00070124e-02, 6.01681806e-02, 6.03281591e-02,\n",
       "       6.04869392e-02, 6.06445120e-02, 6.08008690e-02, 6.09560014e-02,\n",
       "       6.11099009e-02, 6.12625590e-02, 6.14139674e-02, 6.15641180e-02,\n",
       "       6.17130026e-02, 6.18606131e-02, 6.20069417e-02, 6.21519805e-02,\n",
       "       6.22957218e-02, 6.24381580e-02, 6.25792815e-02, 6.27190848e-02,\n",
       "       6.28575606e-02, 6.29947017e-02, 6.31305009e-02, 6.32649513e-02,\n",
       "       6.33980457e-02, 6.35297774e-02, 6.36601397e-02, 6.37891259e-02,\n",
       "       6.39167295e-02, 6.40429441e-02, 6.41677632e-02, 6.42911808e-02,\n",
       "       6.44131906e-02, 6.45337867e-02, 6.46529631e-02, 6.47707141e-02,\n",
       "       6.48870340e-02, 6.50019171e-02, 6.51153581e-02, 6.52273514e-02,\n",
       "       6.53378919e-02, 6.54469744e-02, 6.55545938e-02, 6.56607452e-02,\n",
       "       6.57654238e-02, 6.58686248e-02, 6.59703437e-02, 6.60705758e-02,\n",
       "       6.61693169e-02, 6.62665627e-02, 6.63623089e-02, 6.64565515e-02,\n",
       "       6.65492866e-02, 6.66405102e-02, 6.67302188e-02, 6.68184086e-02,\n",
       "       6.69050761e-02, 6.69902180e-02, 6.70738310e-02, 6.71559118e-02,\n",
       "       6.72364574e-02, 6.73154649e-02, 6.73929315e-02, 6.74688543e-02,\n",
       "       6.75432307e-02, 6.76160584e-02, 6.76873348e-02, 6.77570576e-02,\n",
       "       6.78252248e-02, 6.78918342e-02, 6.79568839e-02, 6.80203720e-02,\n",
       "       6.80822969e-02, 6.81426568e-02, 6.82014503e-02, 6.82586760e-02,\n",
       "       6.83143327e-02, 6.83684190e-02, 6.84209340e-02, 6.84718767e-02,\n",
       "       6.85212462e-02, 6.85690419e-02, 6.86152630e-02, 6.86599091e-02,\n",
       "       6.87029797e-02, 6.87444746e-02, 6.87843935e-02, 6.88227365e-02,\n",
       "       6.88595033e-02, 6.88946944e-02, 6.89283097e-02, 6.89603498e-02,\n",
       "       6.89908150e-02, 6.90197058e-02, 6.90470231e-02, 6.90727675e-02,\n",
       "       6.90969398e-02, 6.91195411e-02, 6.91405725e-02, 6.91600351e-02,\n",
       "       6.91779302e-02, 6.91942593e-02, 6.92090237e-02, 6.92222251e-02,\n",
       "       6.92338652e-02, 6.92439458e-02, 6.92524687e-02, 6.92594361e-02,\n",
       "       6.92648499e-02, 6.92687123e-02, 6.92710258e-02, 6.92717926e-02,\n",
       "       6.92710152e-02, 6.92686963e-02, 6.92648385e-02, 6.92594445e-02,\n",
       "       6.92525174e-02, 6.92440600e-02, 6.92340754e-02, 6.92225667e-02,\n",
       "       6.92095373e-02, 6.91949904e-02, 6.91789295e-02, 6.91613581e-02,\n",
       "       6.91422799e-02, 6.91216984e-02, 6.90996177e-02, 6.90760414e-02,\n",
       "       6.90509736e-02, 6.90244183e-02, 6.89963798e-02, 6.89668621e-02,\n",
       "       6.89358697e-02, 6.89034069e-02, 6.88694783e-02, 6.88340883e-02,\n",
       "       6.87972417e-02, 6.87589432e-02, 6.87191975e-02, 6.86780097e-02,\n",
       "       6.86353846e-02, 6.85913272e-02, 6.85458429e-02, 6.84989366e-02,\n",
       "       6.84506138e-02, 6.84008798e-02, 6.83497400e-02, 6.82972000e-02,\n",
       "       6.82432652e-02, 6.81879414e-02, 6.81312343e-02, 6.80731497e-02,\n",
       "       6.80136935e-02, 6.79528716e-02, 6.78906900e-02, 6.78271547e-02,\n",
       "       6.77622720e-02, 6.76960480e-02, 6.76284891e-02, 6.75596015e-02,\n",
       "       6.74893916e-02, 6.74178660e-02, 6.73450311e-02, 6.72708935e-02,\n",
       "       6.71954600e-02, 6.71187371e-02, 6.70407317e-02, 6.69614507e-02,\n",
       "       6.68809008e-02, 6.67990890e-02, 6.67160224e-02, 6.66317079e-02,\n",
       "       6.65461527e-02, 6.64593640e-02, 6.63713489e-02, 6.62821148e-02,\n",
       "       6.61916689e-02, 6.61000186e-02, 6.60071713e-02, 6.59131345e-02,\n",
       "       6.58179157e-02, 6.57215225e-02, 6.56239623e-02, 6.55252430e-02,\n",
       "       6.54253722e-02, 6.53243575e-02, 6.52222069e-02, 6.51189281e-02,\n",
       "       6.50145289e-02, 6.49090173e-02, 6.48024012e-02, 6.46946885e-02,\n",
       "       6.45858873e-02, 6.44760057e-02, 6.43650517e-02, 6.42530334e-02,\n",
       "       6.41399590e-02, 6.40258366e-02, 6.39106745e-02, 6.37944809e-02,\n",
       "       6.36772642e-02, 6.35590325e-02, 6.34397943e-02, 6.33195579e-02,\n",
       "       6.31983317e-02, 6.30761242e-02, 6.29529436e-02, 6.28287986e-02,\n",
       "       6.27036977e-02, 6.25776492e-02, 6.24506618e-02, 6.23227441e-02,\n",
       "       6.21939045e-02, 6.20641518e-02, 6.19334944e-02, 6.18019411e-02,\n",
       "       6.16695005e-02, 6.15361813e-02, 6.14019922e-02, 6.12669418e-02,\n",
       "       6.11310388e-02, 6.09942921e-02, 6.08567102e-02, 6.07183021e-02,\n",
       "       6.05790764e-02, 6.04390419e-02, 6.02982074e-02, 6.01565817e-02,\n",
       "       6.00141736e-02, 5.98709919e-02, 5.97270454e-02, 5.95823429e-02,\n",
       "       5.94368932e-02, 5.92907053e-02, 5.91437878e-02, 5.89961496e-02,\n",
       "       5.88477996e-02, 5.86987466e-02, 5.85489995e-02, 5.83985670e-02,\n",
       "       5.82474580e-02, 5.80956814e-02, 5.79432459e-02, 5.77901605e-02,\n",
       "       5.76364338e-02, 5.74820748e-02, 5.73270923e-02, 5.71714951e-02,\n",
       "       5.70152919e-02, 5.68584916e-02, 5.67011030e-02, 5.65431348e-02,\n",
       "       5.63845958e-02, 5.62254948e-02, 5.60658405e-02, 5.59056417e-02,\n",
       "       5.57449070e-02, 5.55836453e-02, 5.54218652e-02, 5.52595754e-02])"
      ]
     },
     "execution_count": 44,
     "metadata": {},
     "output_type": "execute_result"
    }
   ],
   "source": [
    "px = np.linspace(gamma.ppf(0.01, al),\n",
    "               gamma.ppf(0.99, al), 100)\n",
    "gamma.pdf(p, al+x, be+n)"
   ]
  },
  {
   "cell_type": "markdown",
   "metadata": {},
   "source": [
    "Defining the maximum"
   ]
  },
  {
   "cell_type": "code",
   "execution_count": 47,
   "metadata": {},
   "outputs": [
    {
     "name": "stdout",
     "output_type": "stream",
     "text": [
      "0.0\n"
     ]
    }
   ],
   "source": [
    "\n",
    "fmax = np.max(posterior_propto(px,3,2))\n",
    "print(fmax)"
   ]
  },
  {
   "cell_type": "code",
   "execution_count": 24,
   "metadata": {},
   "outputs": [],
   "source": [
    "import scipy.integrate as integrate"
   ]
  },
  {
   "cell_type": "code",
   "execution_count": 25,
   "metadata": {},
   "outputs": [],
   "source": [
    "mx = integrate.quad(lambda p: posterior_propto(p,3,2), 0, 1)"
   ]
  },
  {
   "cell_type": "code",
   "execution_count": 26,
   "metadata": {},
   "outputs": [
    {
     "data": {
      "text/plain": [
       "(0.0, 0.0)"
      ]
     },
     "execution_count": 26,
     "metadata": {},
     "output_type": "execute_result"
    }
   ],
   "source": [
    "mx"
   ]
  },
  {
   "cell_type": "code",
   "execution_count": 27,
   "metadata": {},
   "outputs": [
    {
     "data": {
      "text/plain": [
       "0.0"
      ]
     },
     "execution_count": 27,
     "metadata": {},
     "output_type": "execute_result"
    }
   ],
   "source": [
    "mx = mx[0]\n",
    "mx"
   ]
  },
  {
   "cell_type": "markdown",
   "metadata": {},
   "source": [
    "## Problem 3\n",
    "\n",
    "Write (or adapt code from class) a Metropolis Hastings algorithm to sample from the posterior. Draw a histogram of the samples and verify that they approximately match the posterior determined using conjugacy or numerical integration. Compute the posterior mean and make a 95% credible interval for $\\lambda$ (you can make this interval in many ways, but the most popular method is to compute the 0.025 and .975 quantiles of the posterior samples). You can verify that you have the right answer by computing the interval from the conjugacy result in Problem 1."
   ]
  },
  {
   "cell_type": "code",
   "execution_count": null,
   "metadata": {},
   "outputs": [],
   "source": []
  }
 ],
 "metadata": {
  "kernelspec": {
   "display_name": "Python 3",
   "language": "python",
   "name": "python3"
  },
  "language_info": {
   "codemirror_mode": {
    "name": "ipython",
    "version": 3
   },
   "file_extension": ".py",
   "mimetype": "text/x-python",
   "name": "python",
   "nbconvert_exporter": "python",
   "pygments_lexer": "ipython3",
   "version": "3.7.1"
  }
 },
 "nbformat": 4,
 "nbformat_minor": 1
}
