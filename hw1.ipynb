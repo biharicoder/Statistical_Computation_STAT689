{
 "cells": [
  {
   "cell_type": "markdown",
   "metadata": {},
   "source": [
    "# Solanki, Shivam - Homework 1\n",
    "\n",
    "### Submission\n",
    "Replace Last Name, First Name above with your name. When you complete this homework, please click \"File\" -> \"Print Preview\". Print the resulting browser tab (double check that all code / markdown is there and that plots are visible). Submit a physical copy of your homework **in class on Wednesday 30th January**.\n",
    "\n",
    "### R versus Python\n",
    "You may complete this homework in either R or python. The current notebook is written in R. If you are completing your homework in R, you can simply modify this notebook with your answers. If you are completing your homework in python, initiate a Jupyter python notebook and write your answers there.\n",
    "\n",
    "### Background Reading for Problems\n",
    "- Section 22.1 - 22.5 in \"Numerical Analysis\" by Lange."
   ]
  },
  {
   "cell_type": "markdown",
   "metadata": {},
   "source": [
    "## Question 1: Inverse Method for geometric random variates\n",
    "\n",
    "1. Using the inverse method and the language $Unif[0,1]$ generator (runif in R, numpy.random.uniform in python), write a function to generate random variates from a geometric distribution with probability of success $p$. Both $p$ and the number of random variates should be arguments to your function. There are multiple ways of defining the geometric distribution, here please use the definition that it is the number of *failures* until the first success.\n",
    "2. For some particular $p$ of your choosing, make a plot of the proportion of random variates taking each value and plot the true geometric probability mass function on top to confirm that the generator is working.\n",
    "3. Compare the speed of your geometric generator to the language generator (rgeom in R, numpy.random.geometric in python). Try to make your generator computationally competitive with the built in generator by avoiding for loops and other slow code.\n",
    "4. How do you think your method would compare to an approach that generates a sequence of random trials with probability $p$ of success until the first success and then records the number of failures until the first success? Why?"
   ]
  },
  {
   "cell_type": "code",
   "execution_count": 1,
   "metadata": {},
   "outputs": [],
   "source": [
    "# Answer 1.1\n",
    "\n",
    "#Generating random variates using inverse method and\n",
    "#uniform random generator\n",
    "import numpy as np\n",
    "import math\n",
    "def inv_geo(p, n):\n",
    "    '''\n",
    "    args: p = probability\n",
    "          n = number of random variates\n",
    "    Return: n random variates from a geometric \n",
    "    distribution with pobability of success p\n",
    "    '''\n",
    "    U = np.random.uniform(0, 1, size=n)\n",
    "    X = np.log(U)/np.log(1-p)\n",
    "    x = [math.ceil(i) for i in X]\n",
    "    return x "
   ]
  },
  {
   "cell_type": "code",
   "execution_count": 2,
   "metadata": {},
   "outputs": [
    {
     "data": {
      "text/plain": [
       "[1, 1, 1, 2, 3, 2, 3, 1, 1, 2]"
      ]
     },
     "execution_count": 2,
     "metadata": {},
     "output_type": "execute_result"
    }
   ],
   "source": [
    "inv_geo(0.35,10)"
   ]
  },
  {
   "cell_type": "code",
   "execution_count": 3,
   "metadata": {},
   "outputs": [
    {
     "data": {
      "image/png": "[encoded data removed]",
      "text/plain": [
       "<Figure size 432x288 with 1 Axes>"
      ]
     },
     "metadata": {
      "needs_background": "light"
     },
     "output_type": "display_data"
    }
   ],
   "source": [
    "# Answer 1.2\n",
    "\n",
    "%matplotlib inline \n",
    "import matplotlib.pyplot as plt\n",
    "\n",
    "kwargs = dict(density=True,alpha=0.5, bins=100)\n",
    "x = inv_geo(0.35, 1000000)\n",
    "y = np.random.geometric(0.35, 1000000)\n",
    "num = np.arange(1,101)\n",
    "plt.hist(x, color= \"y\", histtype='stepfilled', **kwargs);\n",
    "plt.hist(y, color= \"r\", histtype='step', **kwargs);\n",
    "plt.xlim([0,30]);\n",
    "plt.xlabel(\"No. of trails until first success\", fontsize= 15);\n",
    "plt.ylabel(\"Proportion of Random Variates\", fontsize= 15);"
   ]
  },
  {
   "cell_type": "code",
   "execution_count": 4,
   "metadata": {},
   "outputs": [
    {
     "name": "stdout",
     "output_type": "stream",
     "text": [
      "4.17 µs ± 25.4 ns per loop (mean ± std. dev. of 7 runs, 100000 loops each)\n"
     ]
    }
   ],
   "source": [
    "%%timeit\n",
    "# Answer 1.3\n",
    "\n",
    "#Using Python's random number generator\n",
    "import numpy as np\n",
    "z = np.random.geometric(p=0.35, size=10)"
   ]
  },
  {
   "cell_type": "code",
   "execution_count": 5,
   "metadata": {},
   "outputs": [
    {
     "name": "stdout",
     "output_type": "stream",
     "text": [
      "21.2 µs ± 276 ns per loop (mean ± std. dev. of 7 runs, 10000 loops each)\n"
     ]
    }
   ],
   "source": [
    "%%timeit\n",
    "inv_geo(0.35,10)"
   ]
  },
  {
   "cell_type": "code",
   "execution_count": 6,
   "metadata": {},
   "outputs": [
    {
     "name": "stdout",
     "output_type": "stream",
     "text": [
      "The slowest run took 9.37 times longer than the fastest. This could mean that an intermediate result is being cached.\n",
      "347 µs ± 311 µs per loop (mean ± std. dev. of 7 runs, 1 loop each)\n"
     ]
    }
   ],
   "source": [
    "%%timeit\n",
    "# Answer 1.4 \n",
    "\n",
    "def bern_geo(p):\n",
    "    '''\n",
    "    args: p = probability  of success until the first success\n",
    "    Return: k = number of trials untils first success\n",
    "    '''\n",
    "    from scipy.stats import bernoulli\n",
    "    k = 1\n",
    "    while bernoulli.rvs(p, size =1) == 0:\n",
    "        k += 1\n",
    "    return k \n",
    "\n",
    "bern_geo(0.60)"
   ]
  },
  {
   "cell_type": "markdown",
   "metadata": {},
   "source": [
    "## Question 2: Simulation Study of the LLN and CLT\n",
    "\n",
    "1. Create an $n \\times m$ matrix $X$ with $n=100$ and $m=1000$ and each entry $X_{ij} \\sim \\text{Exp}(\\lambda)$ (rexp in R, numpy.random.exponential in python). Set the rate parameter to be $\\lambda=0.5$ so that the mean of $X_{ij}$ is $2$. (Again, beware that there are multiple ways of parameterizing the exponential distribution and python does it differently to R). <br>If you would like some intuition for this simulation consider the following situation: we survey $100$ bus stops in a city, and at each bus stop, we measure the waiting times between each bus until the stop has been visited by $1000$ buses. The exponential distribution is often used to model waiting times (bus arrival times, next stock trade, store visits, website visits, product lifetimes etc.). In this simple simulation study, we suppose that the waiting times are the same at each bus stop and throughout the day. \n",
    "2. Compute the running mean of each row of $X$ to produce a new matrix $Y$ which is again $100 \\times 1000$. Specifically the row $i$, column $k$ entry of $Y$ is\n",
    "\\begin{equation*}\n",
    "Y_{ik} = \\frac{1}{k} \\sum_{j=1}^k X_{ij}\n",
    "\\end{equation*}\n",
    "Try to avoid using nested for loops.\n",
    "3. Plot each row of $Y$ (on the y-axis) against the column number (on the x-axis). This will result in 1 plot with 100 lines. Then make three histograms 1) first column of $Y$, 2) 20th column of $Y$, and 3) the last column of $Y$. Your images should roughly look like what is below. (If you want to make the results clearer and prettier, draw all histograms or density estimators on top of each other with different colors, see lecture notes from the first class [here](https://nbviewer.jupyter.org/urls/david-jones-statistics.github.io/statcomp/lectures/topic1-intro/00intro.ipynb) for how to do this with ggplot in R or [here](https://jakevdp.github.io/PythonDataScienceHandbook/04.05-histograms-and-binnings.html) for code in python from VanderPlas)\n",
    "4. Take the variance of each column of $Y$ to produce a vector $\\boldsymbol{u}$ giving the running variance of the means across the $n$ bus stops. Plot $1/\\boldsymbol{u}_k$ (on the y-axis) against $k$ (on the x-axis), and add a line showing $k\\lambda^2$, for $k=1,\\dots,m$. \n",
    "5. Explain what the simulation results in parts 3 and 4 are showing."
   ]
  },
  {
   "cell_type": "code",
   "execution_count": 7,
   "metadata": {},
   "outputs": [],
   "source": [
    "# Answer 2.1\n",
    "\n",
    "#Creating 100 by 1000 matrix with random numbers exponentially distributed having mean=2\n",
    "def exp_matrix(mu,n,m):\n",
    "    import numpy as np \n",
    "    x = np.random.exponential(mu, size=(n, m))\n",
    "    return x"
   ]
  },
  {
   "cell_type": "code",
   "execution_count": 8,
   "metadata": {},
   "outputs": [
    {
     "data": {
      "text/plain": [
       "(100, 1000)"
      ]
     },
     "execution_count": 8,
     "metadata": {},
     "output_type": "execute_result"
    }
   ],
   "source": [
    "x = exp_matrix(2,100,1000)\n",
    "x.shape"
   ]
  },
  {
   "cell_type": "code",
   "execution_count": 9,
   "metadata": {},
   "outputs": [],
   "source": [
    "# Answer 2.2\n",
    "\n",
    "def running_mean(x,n):\n",
    "    '''\n",
    "    args: x = matrix\n",
    "        n=number of columns in the matrix\n",
    "    Output: Running mean across each row\n",
    "    '''\n",
    "    import numpy as np\n",
    "    index = np.arange(1,n+1)\n",
    "    moving_avg = np.cumsum(x,axis=1)/index\n",
    "    return moving_avg"
   ]
  },
  {
   "cell_type": "code",
   "execution_count": 10,
   "metadata": {},
   "outputs": [
    {
     "data": {
      "text/plain": [
       "(100, 1000)"
      ]
     },
     "execution_count": 10,
     "metadata": {},
     "output_type": "execute_result"
    }
   ],
   "source": [
    "a = exp_matrix(2,100,1000)\n",
    "Y = running_mean(a,1000)\n",
    "Y.shape"
   ]
  },
  {
   "cell_type": "code",
   "execution_count": 11,
   "metadata": {},
   "outputs": [
    {
     "data": {
      "image/png": "[encoded data removed]",
      "text/plain": [
       "<Figure size 432x288 with 1 Axes>"
      ]
     },
     "metadata": {
      "needs_background": "light"
     },
     "output_type": "display_data"
    }
   ],
   "source": [
    "# Answer 2.3\n",
    "\n",
    "%matplotlib inline \n",
    "import matplotlib.pyplot as plt\n",
    "\n",
    "a = exp_matrix(2,100,1000)\n",
    "Y = running_mean(a,1000)\n",
    "for i in range(100):\n",
    "    plt.plot(Y[i]);\n",
    "    plt.xlabel(i);"
   ]
  },
  {
   "cell_type": "code",
   "execution_count": 12,
   "metadata": {},
   "outputs": [
    {
     "data": {
      "image/png": "[encoded data removed]",
      "text/plain": [
       "<Figure size 432x288 with 1 Axes>"
      ]
     },
     "metadata": {},
     "output_type": "display_data"
    }
   ],
   "source": [
    "# Answer 2.3\n",
    "\n",
    "%matplotlib inline \n",
    "import matplotlib.pyplot as plt\n",
    "\n",
    "a = exp_matrix(2,100,1000)\n",
    "Y = running_mean(a,1000)\n",
    "plt.style.use('seaborn-white')\n",
    "\n",
    "kwargs = dict(density=True,alpha=0.5, bins=100, histtype='stepfilled', color='steelblue',edgecolor='none')\n",
    "plt.hist(Y[:,0], **kwargs);\n",
    "plt.xlabel(\"Column No.\", fontsize =10);\n",
    "plt.ylabel(\"Running Mean\", fontsize =10);\n"
   ]
  },
  {
   "cell_type": "code",
   "execution_count": 13,
   "metadata": {},
   "outputs": [
    {
     "data": {
      "image/png": "[encoded data removed]",
      "text/plain": [
       "<Figure size 432x288 with 1 Axes>"
      ]
     },
     "metadata": {
      "needs_background": "light"
     },
     "output_type": "display_data"
    }
   ],
   "source": [
    "# Answer 2.3\n",
    "\n",
    "%matplotlib inline \n",
    "import matplotlib.pyplot as plt\n",
    "\n",
    "a = exp_matrix(2,100,1000)\n",
    "Y = running_mean(a,1000)\n",
    "global kwargs\n",
    "plt.hist(Y[:,19], **kwargs);\n",
    "plt.xlabel(\"Column No.\", fontsize =10);\n",
    "plt.ylabel(\"Running Mean\", fontsize =10);\n"
   ]
  },
  {
   "cell_type": "code",
   "execution_count": 14,
   "metadata": {},
   "outputs": [
    {
     "data": {
      "image/png": "[encoded data removed]",
      "text/plain": [
       "<Figure size 432x288 with 1 Axes>"
      ]
     },
     "metadata": {
      "needs_background": "light"
     },
     "output_type": "display_data"
    }
   ],
   "source": [
    "# Answer 2.3\n",
    "\n",
    "%matplotlib inline \n",
    "import matplotlib.pyplot as plt\n",
    "global kwargs\n",
    "\n",
    "a = exp_matrix(2,100,1000)\n",
    "Y = running_mean(a,1000)\n",
    "plt.hist(Y[:,-1], **kwargs);\n",
    "plt.xlabel(\"Column No.\", fontsize =10);\n",
    "plt.ylabel(\"Running Mean\", fontsize =10);"
   ]
  },
  {
   "cell_type": "code",
   "execution_count": 15,
   "metadata": {},
   "outputs": [
    {
     "data": {
      "image/png": "[encoded data removed]",
      "text/plain": [
       "<Figure size 432x288 with 1 Axes>"
      ]
     },
     "metadata": {
      "needs_background": "light"
     },
     "output_type": "display_data"
    }
   ],
   "source": [
    "%matplotlib inline \n",
    "import matplotlib.pyplot as plt\n",
    "global kwargs\n",
    "\n",
    "a = exp_matrix(2,100,1000)\n",
    "Y = running_mean(a,1000)\n",
    "p1= Y.T[0]\n",
    "p2= Y.T[19]\n",
    "p3= Y.T[-1]\n",
    "\n",
    "kwargs = dict(histtype='stepfilled', alpha=0.3, density=False, bins=20)\n",
    "\n",
    "plt.hist(p1, **kwargs, label= \"Sample size 1\");\n",
    "plt.hist(p2, **kwargs, label= \"Sample size 20\");\n",
    "plt.hist(p3, **kwargs, label= \"Sample size 1000\");\n",
    "plt.ylabel(\"Running Mean\", fontsize=10);\n",
    "plt.xlabel(\"Column number\", fontsize=10);\n",
    "plt.title(\"Histograms of different sample size\", fontsize=10);"
   ]
  },
  {
   "cell_type": "code",
   "execution_count": 16,
   "metadata": {},
   "outputs": [
    {
     "data": {
      "image/png": "[encoded data removed]",
      "text/plain": [
       "<Figure size 432x288 with 1 Axes>"
      ]
     },
     "metadata": {
      "needs_background": "light"
     },
     "output_type": "display_data"
    }
   ],
   "source": [
    "# Answer 2.4\n",
    "\n",
    "%matplotlib inline \n",
    "import matplotlib.pyplot as plt\n",
    "\n",
    "import numpy as np\n",
    "a = exp_matrix(2,100,1000)\n",
    "Y = running_mean(a,1000)\n",
    "z = np.var(Y, axis=0)\n",
    "r = np.reciprocal(z)\n",
    "index = np.arange(1,1001)\n",
    "plt.plot(index,r);\n",
    "plt.plot(index*(0.5)**2);"
   ]
  },
  {
   "cell_type": "markdown",
   "metadata": {},
   "source": [
    "(requires internet connection to view)\n",
    "\n",
    "<img src=\"https://david-jones-statistics.github.io/statcomp/hw/hw1_plot1.png\">\n"
   ]
  },
  {
   "cell_type": "markdown",
   "metadata": {
    "collapsed": true
   },
   "source": [
    "(requires internet connection to view)\n",
    "\n",
    "<img src=\"https://david-jones-statistics.github.io/statcomp/hw/hw1_plot2.png\">\n"
   ]
  },
  {
   "cell_type": "markdown",
   "metadata": {},
   "source": [
    "## Answer 2.5\n",
    "\n",
    "According to the law of large number, the average of the results obtained from a large number of trials \n",
    "should be close to the expected value, and will tend to become closer as more trials are performed.\n",
    "So, we can observe from the plot of the running mean that as the number of observation increases,\n",
    "the sample mean approaches the expected value of the population mean which is 2.0 \n",
    "\n",
    "The central limit theoram can be observed from the plot as the sample size increases, distribution of sample\n",
    "means approaches the normal distribution. The shape of the plot changes from exponential distribution to normal distribution\n",
    "as the sample size increases. \n"
   ]
  }
 ],
 "metadata": {
  "kernelspec": {
   "display_name": "Python 3",
   "language": "python",
   "name": "python3"
  },
  "language_info": {
   "codemirror_mode": {
    "name": "ipython",
    "version": 3
   },
   "file_extension": ".py",
   "mimetype": "text/x-python",
   "name": "python",
   "nbconvert_exporter": "python",
   "pygments_lexer": "ipython3",
   "version": "3.7.1"
  }
 },
 "nbformat": 4,
 "nbformat_minor": 2
}
